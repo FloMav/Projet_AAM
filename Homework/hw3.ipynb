{
 "cells": [
  {
   "cell_type": "code",
   "execution_count": 20,
   "metadata": {},
   "outputs": [],
   "source": [
    "import numpy as np\n",
    "import pandas as pd\n",
    "from sklearn import preprocessing\n",
    "import scipy.stats as stats\n",
    "import statsmodels.api as sm\n",
    "from scipy.cluster.hierarchy import dendrogram, linkage, fcluster\n",
    "from scipy.spatial.distance import pdist, squareform\n",
    "from matplotlib import pyplot as plt\n",
    "from statsmodels.multivariate.pca import PCA as PCA"
   ]
  },
  {
   "cell_type": "code",
   "execution_count": 58,
   "metadata": {},
   "outputs": [],
   "source": [
    "SECTORS=np.array(pd.read_excel('/Users/Alicia/Documents/:M2 203/S2/Advanced Asset Management/Monarcha/HOMEWORK_3/HOMEWORK_3.xlsx', 'Feuil1',usecols='B:K'))\n",
    "MARKET=np.array(pd.read_excel('/Users/Alicia/Documents/:M2 203/S2/Advanced Asset Management/Monarcha/HOMEWORK_3/HOMEWORK_3.xlsx', 'Feuil1',usecols='L'))\n",
    "RF=np.array(pd.read_excel('/Users/Alicia/Documents/:M2 203/S2/Advanced Asset Management/Monarcha/HOMEWORK_3/HOMEWORK_3.xlsx', 'Feuil1',usecols='M'))\n",
    "FUNDS=np.array(pd.read_excel('/Users/Alicia/Documents/:M2 203/S2/Advanced Asset Management/Monarcha/HOMEWORK_3/HOMEWORK_3.xlsx', 'Feuil1',usecols='N:O'))"
   ]
  },
  {
   "cell_type": "markdown",
   "metadata": {},
   "source": [
    "## Part 1 "
   ]
  },
  {
   "cell_type": "code",
   "execution_count": 63,
   "metadata": {},
   "outputs": [],
   "source": [
    "n_sim=1000\n",
    "ret_sim=np.zeros((len(SECTORS),n_sim))\n",
    "stats_sim=np.zeros((3,n_sim))\n",
    "\n",
    "for i in range(n_sim):\n",
    "    #print(i)\n",
    "    score_t=np.random.normal(0,1,SECTORS.shape)\n",
    "    for t in range(len(SECTORS)):\n",
    "        select=score_t[t,:]>=np.quantile(score_t[t,:],0.7) \n",
    "        ret_sim[t,i]=np.mean(SECTORS[t,select])"
   ]
  },
  {
   "cell_type": "code",
   "execution_count": null,
   "metadata": {},
   "outputs": [],
   "source": []
  },
  {
   "cell_type": "code",
   "execution_count": null,
   "metadata": {},
   "outputs": [],
   "source": []
  },
  {
   "cell_type": "code",
   "execution_count": null,
   "metadata": {},
   "outputs": [],
   "source": []
  },
  {
   "cell_type": "code",
   "execution_count": 98,
   "metadata": {},
   "outputs": [],
   "source": [
    "n_sim=1000 #1000 simulations\n",
    "ret_sim=np.zeros((len(SECTORS),n_sim)) \n",
    "stats_sim=np.zeros((3,n_sim)) \n",
    "\n",
    "for i in range(n_sim):\n",
    "    #print(i)\n",
    "    score_t=np.random.normal(0,1,SECTORS.shape) #distribution loi normale\n",
    "    t=0 #chaque ligne/date on long le stock si > quantile \n",
    "    select=score_t[t,:]>=np.quantile(score_t[t,:],0.7) #>=0.7 bc we want to invest in 3 stocks\n",
    "    ret_sim[t,i]=np.mean(SECTORS[t,select])"
   ]
  },
  {
   "cell_type": "code",
   "execution_count": 99,
   "metadata": {},
   "outputs": [
    {
     "data": {
      "text/plain": [
       "0.5990272269670478"
      ]
     },
     "execution_count": 99,
     "metadata": {},
     "output_type": "execute_result"
    }
   ],
   "source": [
    "np.quantile(score_t[t,:],0.7)"
   ]
  },
  {
   "cell_type": "code",
   "execution_count": 100,
   "metadata": {},
   "outputs": [
    {
     "data": {
      "text/plain": [
       "array([-0.08390569,  0.59255227, -1.26829546,  0.50528454, -0.07441422,\n",
       "        1.52728333, -0.29323115,  0.47622937, -0.49001984,  0.62492706])"
      ]
     },
     "execution_count": 100,
     "metadata": {},
     "output_type": "execute_result"
    }
   ],
   "source": [
    "score_t[t,:]"
   ]
  },
  {
   "cell_type": "code",
   "execution_count": 101,
   "metadata": {},
   "outputs": [
    {
     "data": {
      "text/html": [
       "<div>\n",
       "<style scoped>\n",
       "    .dataframe tbody tr th:only-of-type {\n",
       "        vertical-align: middle;\n",
       "    }\n",
       "\n",
       "    .dataframe tbody tr th {\n",
       "        vertical-align: top;\n",
       "    }\n",
       "\n",
       "    .dataframe thead th {\n",
       "        text-align: right;\n",
       "    }\n",
       "</style>\n",
       "<table border=\"1\" class=\"dataframe\">\n",
       "  <thead>\n",
       "    <tr style=\"text-align: right;\">\n",
       "      <th></th>\n",
       "      <th>0</th>\n",
       "      <th>1</th>\n",
       "      <th>2</th>\n",
       "      <th>3</th>\n",
       "      <th>4</th>\n",
       "      <th>5</th>\n",
       "      <th>6</th>\n",
       "      <th>7</th>\n",
       "      <th>8</th>\n",
       "      <th>9</th>\n",
       "    </tr>\n",
       "  </thead>\n",
       "  <tbody>\n",
       "    <tr>\n",
       "      <th>0</th>\n",
       "      <td>-0.083906</td>\n",
       "      <td>0.592552</td>\n",
       "      <td>-1.268295</td>\n",
       "      <td>0.505285</td>\n",
       "      <td>-0.074414</td>\n",
       "      <td>1.527283</td>\n",
       "      <td>-0.293231</td>\n",
       "      <td>0.476229</td>\n",
       "      <td>-0.490020</td>\n",
       "      <td>0.624927</td>\n",
       "    </tr>\n",
       "    <tr>\n",
       "      <th>1</th>\n",
       "      <td>1.021002</td>\n",
       "      <td>-0.259839</td>\n",
       "      <td>-0.058374</td>\n",
       "      <td>0.242747</td>\n",
       "      <td>-1.471658</td>\n",
       "      <td>0.610375</td>\n",
       "      <td>0.110910</td>\n",
       "      <td>-1.452028</td>\n",
       "      <td>1.081030</td>\n",
       "      <td>-1.912821</td>\n",
       "    </tr>\n",
       "    <tr>\n",
       "      <th>2</th>\n",
       "      <td>-0.705085</td>\n",
       "      <td>-0.830635</td>\n",
       "      <td>-1.368855</td>\n",
       "      <td>-1.351352</td>\n",
       "      <td>-0.197509</td>\n",
       "      <td>1.492915</td>\n",
       "      <td>-0.141562</td>\n",
       "      <td>1.179305</td>\n",
       "      <td>1.466966</td>\n",
       "      <td>-0.619269</td>\n",
       "    </tr>\n",
       "    <tr>\n",
       "      <th>3</th>\n",
       "      <td>-1.580993</td>\n",
       "      <td>-1.750237</td>\n",
       "      <td>1.512768</td>\n",
       "      <td>-0.547469</td>\n",
       "      <td>-1.214986</td>\n",
       "      <td>-0.035010</td>\n",
       "      <td>1.627120</td>\n",
       "      <td>0.054138</td>\n",
       "      <td>-0.400760</td>\n",
       "      <td>-0.531734</td>\n",
       "    </tr>\n",
       "    <tr>\n",
       "      <th>4</th>\n",
       "      <td>-0.596886</td>\n",
       "      <td>0.130300</td>\n",
       "      <td>-0.613723</td>\n",
       "      <td>-0.832252</td>\n",
       "      <td>1.913458</td>\n",
       "      <td>-1.248393</td>\n",
       "      <td>0.715376</td>\n",
       "      <td>-1.423481</td>\n",
       "      <td>-0.901533</td>\n",
       "      <td>0.557248</td>\n",
       "    </tr>\n",
       "    <tr>\n",
       "      <th>...</th>\n",
       "      <td>...</td>\n",
       "      <td>...</td>\n",
       "      <td>...</td>\n",
       "      <td>...</td>\n",
       "      <td>...</td>\n",
       "      <td>...</td>\n",
       "      <td>...</td>\n",
       "      <td>...</td>\n",
       "      <td>...</td>\n",
       "      <td>...</td>\n",
       "    </tr>\n",
       "    <tr>\n",
       "      <th>190</th>\n",
       "      <td>1.557502</td>\n",
       "      <td>0.947669</td>\n",
       "      <td>0.619379</td>\n",
       "      <td>0.335494</td>\n",
       "      <td>2.063582</td>\n",
       "      <td>1.019162</td>\n",
       "      <td>3.311214</td>\n",
       "      <td>-1.624678</td>\n",
       "      <td>-0.338138</td>\n",
       "      <td>1.491745</td>\n",
       "    </tr>\n",
       "    <tr>\n",
       "      <th>191</th>\n",
       "      <td>-0.009405</td>\n",
       "      <td>-0.233956</td>\n",
       "      <td>-0.804672</td>\n",
       "      <td>1.009843</td>\n",
       "      <td>-0.205436</td>\n",
       "      <td>-0.320962</td>\n",
       "      <td>-2.060903</td>\n",
       "      <td>-0.360488</td>\n",
       "      <td>-0.778401</td>\n",
       "      <td>0.321466</td>\n",
       "    </tr>\n",
       "    <tr>\n",
       "      <th>192</th>\n",
       "      <td>-0.194827</td>\n",
       "      <td>1.113806</td>\n",
       "      <td>-0.257535</td>\n",
       "      <td>1.972124</td>\n",
       "      <td>-2.163395</td>\n",
       "      <td>0.697861</td>\n",
       "      <td>-2.116109</td>\n",
       "      <td>0.405944</td>\n",
       "      <td>-0.280971</td>\n",
       "      <td>-0.058427</td>\n",
       "    </tr>\n",
       "    <tr>\n",
       "      <th>193</th>\n",
       "      <td>-0.112169</td>\n",
       "      <td>-1.344523</td>\n",
       "      <td>1.151603</td>\n",
       "      <td>-1.184935</td>\n",
       "      <td>1.232082</td>\n",
       "      <td>0.867741</td>\n",
       "      <td>0.672508</td>\n",
       "      <td>0.987980</td>\n",
       "      <td>1.414020</td>\n",
       "      <td>0.971243</td>\n",
       "    </tr>\n",
       "    <tr>\n",
       "      <th>194</th>\n",
       "      <td>0.617669</td>\n",
       "      <td>-1.562278</td>\n",
       "      <td>-0.708547</td>\n",
       "      <td>1.217805</td>\n",
       "      <td>-2.054148</td>\n",
       "      <td>-0.390377</td>\n",
       "      <td>0.310227</td>\n",
       "      <td>-0.965185</td>\n",
       "      <td>-0.820429</td>\n",
       "      <td>1.329661</td>\n",
       "    </tr>\n",
       "  </tbody>\n",
       "</table>\n",
       "<p>195 rows × 10 columns</p>\n",
       "</div>"
      ],
      "text/plain": [
       "            0         1         2         3         4         5         6  \\\n",
       "0   -0.083906  0.592552 -1.268295  0.505285 -0.074414  1.527283 -0.293231   \n",
       "1    1.021002 -0.259839 -0.058374  0.242747 -1.471658  0.610375  0.110910   \n",
       "2   -0.705085 -0.830635 -1.368855 -1.351352 -0.197509  1.492915 -0.141562   \n",
       "3   -1.580993 -1.750237  1.512768 -0.547469 -1.214986 -0.035010  1.627120   \n",
       "4   -0.596886  0.130300 -0.613723 -0.832252  1.913458 -1.248393  0.715376   \n",
       "..        ...       ...       ...       ...       ...       ...       ...   \n",
       "190  1.557502  0.947669  0.619379  0.335494  2.063582  1.019162  3.311214   \n",
       "191 -0.009405 -0.233956 -0.804672  1.009843 -0.205436 -0.320962 -2.060903   \n",
       "192 -0.194827  1.113806 -0.257535  1.972124 -2.163395  0.697861 -2.116109   \n",
       "193 -0.112169 -1.344523  1.151603 -1.184935  1.232082  0.867741  0.672508   \n",
       "194  0.617669 -1.562278 -0.708547  1.217805 -2.054148 -0.390377  0.310227   \n",
       "\n",
       "            7         8         9  \n",
       "0    0.476229 -0.490020  0.624927  \n",
       "1   -1.452028  1.081030 -1.912821  \n",
       "2    1.179305  1.466966 -0.619269  \n",
       "3    0.054138 -0.400760 -0.531734  \n",
       "4   -1.423481 -0.901533  0.557248  \n",
       "..        ...       ...       ...  \n",
       "190 -1.624678 -0.338138  1.491745  \n",
       "191 -0.360488 -0.778401  0.321466  \n",
       "192  0.405944 -0.280971 -0.058427  \n",
       "193  0.987980  1.414020  0.971243  \n",
       "194 -0.965185 -0.820429  1.329661  \n",
       "\n",
       "[195 rows x 10 columns]"
      ]
     },
     "execution_count": 101,
     "metadata": {},
     "output_type": "execute_result"
    }
   ],
   "source": [
    "score_t = pd.DataFrame(score_t)\n",
    "score_t"
   ]
  },
  {
   "cell_type": "code",
   "execution_count": 102,
   "metadata": {},
   "outputs": [
    {
     "data": {
      "text/html": [
       "<div>\n",
       "<style scoped>\n",
       "    .dataframe tbody tr th:only-of-type {\n",
       "        vertical-align: middle;\n",
       "    }\n",
       "\n",
       "    .dataframe tbody tr th {\n",
       "        vertical-align: top;\n",
       "    }\n",
       "\n",
       "    .dataframe thead th {\n",
       "        text-align: right;\n",
       "    }\n",
       "</style>\n",
       "<table border=\"1\" class=\"dataframe\">\n",
       "  <thead>\n",
       "    <tr style=\"text-align: right;\">\n",
       "      <th></th>\n",
       "      <th>0</th>\n",
       "    </tr>\n",
       "  </thead>\n",
       "  <tbody>\n",
       "    <tr>\n",
       "      <th>0</th>\n",
       "      <td>False</td>\n",
       "    </tr>\n",
       "    <tr>\n",
       "      <th>1</th>\n",
       "      <td>False</td>\n",
       "    </tr>\n",
       "    <tr>\n",
       "      <th>2</th>\n",
       "      <td>False</td>\n",
       "    </tr>\n",
       "    <tr>\n",
       "      <th>3</th>\n",
       "      <td>False</td>\n",
       "    </tr>\n",
       "    <tr>\n",
       "      <th>4</th>\n",
       "      <td>False</td>\n",
       "    </tr>\n",
       "    <tr>\n",
       "      <th>5</th>\n",
       "      <td>True</td>\n",
       "    </tr>\n",
       "    <tr>\n",
       "      <th>6</th>\n",
       "      <td>False</td>\n",
       "    </tr>\n",
       "    <tr>\n",
       "      <th>7</th>\n",
       "      <td>False</td>\n",
       "    </tr>\n",
       "    <tr>\n",
       "      <th>8</th>\n",
       "      <td>False</td>\n",
       "    </tr>\n",
       "    <tr>\n",
       "      <th>9</th>\n",
       "      <td>True</td>\n",
       "    </tr>\n",
       "  </tbody>\n",
       "</table>\n",
       "</div>"
      ],
      "text/plain": [
       "       0\n",
       "0  False\n",
       "1  False\n",
       "2  False\n",
       "3  False\n",
       "4  False\n",
       "5   True\n",
       "6  False\n",
       "7  False\n",
       "8  False\n",
       "9   True"
      ]
     },
     "execution_count": 102,
     "metadata": {},
     "output_type": "execute_result"
    }
   ],
   "source": [
    "select = pd.DataFrame(select)\n",
    "select"
   ]
  },
  {
   "cell_type": "code",
   "execution_count": null,
   "metadata": {},
   "outputs": [],
   "source": []
  },
  {
   "cell_type": "code",
   "execution_count": null,
   "metadata": {},
   "outputs": [],
   "source": []
  },
  {
   "cell_type": "code",
   "execution_count": null,
   "metadata": {},
   "outputs": [],
   "source": []
  },
  {
   "cell_type": "code",
   "execution_count": null,
   "metadata": {},
   "outputs": [],
   "source": []
  },
  {
   "cell_type": "markdown",
   "metadata": {},
   "source": [
    "## Part 2"
   ]
  },
  {
   "cell_type": "code",
   "execution_count": 23,
   "metadata": {},
   "outputs": [],
   "source": [
    "# annualized returns        \n",
    "stats_sim[0,:]=np.mean(ret_sim,axis=0)*12"
   ]
  },
  {
   "cell_type": "code",
   "execution_count": 25,
   "metadata": {},
   "outputs": [],
   "source": [
    "# Sharpe ratios\n",
    "stats_sim[1,:]=(np.mean(ret_sim,axis=0)*12-np.mean(RF))/(np.std(ret_sim,axis=0)*12**0.5)"
   ]
  },
  {
   "cell_type": "code",
   "execution_count": 26,
   "metadata": {},
   "outputs": [],
   "source": [
    "# alpha vs. SP500\n",
    "for i in range(n_sim):\n",
    "    model = sm.OLS(ret_sim[:,i],sm.add_constant(MARKET))\n",
    "    results = model.fit()\n",
    "    stats_sim[2,i]=results.params[0]*12"
   ]
  },
  {
   "cell_type": "code",
   "execution_count": 27,
   "metadata": {},
   "outputs": [],
   "source": [
    "### STATISTICS LUCKY THRESHOLDS\n",
    "threshlods=np.quantile(stats_sim,0.99,axis=1)"
   ]
  },
  {
   "cell_type": "code",
   "execution_count": 29,
   "metadata": {},
   "outputs": [
    {
     "data": {
      "text/plain": [
       "array([0.13935   , 0.81867773, 0.03666005])"
      ]
     },
     "execution_count": 29,
     "metadata": {},
     "output_type": "execute_result"
    }
   ],
   "source": [
    "threshlods"
   ]
  },
  {
   "cell_type": "code",
   "execution_count": 28,
   "metadata": {},
   "outputs": [
    {
     "name": "stdout",
     "output_type": "stream",
     "text": [
      "Annualized performances [0.13613736 0.16684007]\n",
      "Sharpe Ratios [0.80895556 1.02190067]\n",
      "Alpha fund 1: 0.028952095544430796\n",
      "Alpha fund 1: 0.0654962772230828\n"
     ]
    }
   ],
   "source": [
    "### FUND STATS\n",
    "print(\"Annualized performances\", np.mean(FUNDS,axis=0)*12)\n",
    "print(\"Sharpe Ratios\", (np.mean(FUNDS,axis=0)*12-np.mean(RF))/(np.std(FUNDS,axis=0)*12**0.5))\n",
    "model = sm.OLS(FUNDS[:,0],sm.add_constant(MARKET))\n",
    "results = model.fit()\n",
    "print(\"Alpha fund 1:\", results.params[0]*12)\n",
    "model = sm.OLS(FUNDS[:,1],sm.add_constant(MARKET))\n",
    "results = model.fit()\n",
    "print(\"Alpha fund 1:\", results.params[0]*12)"
   ]
  },
  {
   "cell_type": "code",
   "execution_count": null,
   "metadata": {},
   "outputs": [],
   "source": []
  },
  {
   "cell_type": "code",
   "execution_count": null,
   "metadata": {},
   "outputs": [],
   "source": []
  },
  {
   "cell_type": "code",
   "execution_count": 41,
   "metadata": {},
   "outputs": [],
   "source": [
    "SECTORS=np.array(pd.read_excel('/Users/Alicia/Documents/:M2 203/S2/Advanced Asset Management/Monarcha/HOMEWORK_3/HOMEWORK_3.xlsx', 'Feuil1',usecols='B:K'))\n",
    "MARKET=np.array(pd.read_excel('/Users/Alicia/Documents/:M2 203/S2/Advanced Asset Management/Monarcha/HOMEWORK_3/HOMEWORK_3.xlsx', 'Feuil1',usecols='L'))\n",
    "RF=np.array(pd.read_excel('/Users/Alicia/Documents/:M2 203/S2/Advanced Asset Management/Monarcha/HOMEWORK_3/HOMEWORK_3.xlsx', 'Feuil1',usecols='M'))\n",
    "FUND_1=np.array(pd.read_excel('/Users/Alicia/Documents/:M2 203/S2/Advanced Asset Management/Monarcha/HOMEWORK_3/HOMEWORK_3.xlsx', 'Feuil1',usecols='N'))\n",
    "FUND_2=np.array(pd.read_excel('/Users/Alicia/Documents/:M2 203/S2/Advanced Asset Management/Monarcha/HOMEWORK_3/HOMEWORK_3.xlsx', 'Feuil1',usecols='O'))"
   ]
  },
  {
   "cell_type": "code",
   "execution_count": 42,
   "metadata": {},
   "outputs": [
    {
     "name": "stdout",
     "output_type": "stream",
     "text": [
      "Annualized performances [0.13613736]\n",
      "Sharpe Ratios [0.80895556]\n",
      "Alpha fund 1: 0.028952095544430796\n"
     ]
    }
   ],
   "source": [
    "### FUND 1 STATS\n",
    "print(\"Annualized performances\", np.mean(FUND_1,axis=0)*12)\n",
    "print(\"Sharpe Ratios\", (np.mean(FUND_1,axis=0)*12-np.mean(RF))/(np.std(FUND_1,axis=0)*12**0.5))\n",
    "model = sm.OLS(FUND_1,sm.add_constant(MARKET))\n",
    "results = model.fit()\n",
    "print(\"Alpha fund 1:\", results.params[0]*12)"
   ]
  },
  {
   "cell_type": "code",
   "execution_count": 43,
   "metadata": {},
   "outputs": [
    {
     "name": "stdout",
     "output_type": "stream",
     "text": [
      "Annualized performances [0.16684007]\n",
      "Sharpe Ratios [1.02190067]\n",
      "Alpha fund 1: 0.0654962772230828\n"
     ]
    }
   ],
   "source": [
    "### FUND 2 STATS\n",
    "print(\"Annualized performances\", np.mean(FUND_2,axis=0)*12)\n",
    "print(\"Sharpe Ratios\", (np.mean(FUND_2,axis=0)*12-np.mean(RF))/(np.std(FUND_2,axis=0)*12**0.5))\n",
    "model = sm.OLS(FUND_2,sm.add_constant(MARKET))\n",
    "results = model.fit()\n",
    "print(\"Alpha fund 1:\", results.params[0]*12)"
   ]
  },
  {
   "cell_type": "code",
   "execution_count": null,
   "metadata": {},
   "outputs": [],
   "source": []
  },
  {
   "cell_type": "code",
   "execution_count": null,
   "metadata": {},
   "outputs": [],
   "source": []
  },
  {
   "cell_type": "markdown",
   "metadata": {},
   "source": [
    "## Part 3"
   ]
  },
  {
   "cell_type": "code",
   "execution_count": null,
   "metadata": {},
   "outputs": [],
   "source": [
    "#luck for fund 1 (inside /< treshold) but not for fund 2"
   ]
  }
 ],
 "metadata": {
  "kernelspec": {
   "display_name": "Python 3",
   "language": "python",
   "name": "python3"
  },
  "language_info": {
   "codemirror_mode": {
    "name": "ipython",
    "version": 3
   },
   "file_extension": ".py",
   "mimetype": "text/x-python",
   "name": "python",
   "nbconvert_exporter": "python",
   "pygments_lexer": "ipython3",
   "version": "3.7.4"
  }
 },
 "nbformat": 4,
 "nbformat_minor": 2
}
